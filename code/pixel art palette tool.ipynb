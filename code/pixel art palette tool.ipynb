{
 "cells": [
  {
   "cell_type": "code",
   "execution_count": 7,
   "metadata": {},
   "outputs": [],
   "source": [
    "from PIL import Image\n",
    "from colorsys import rgb_to_hls, hls_to_rgb\n",
    "from random import choice\n",
    "\n",
    "n_colors = 4\n",
    "hue_distance = 60\n",
    "first_hue = choice(range(0,300))\n",
    "hue_shift = 2\n",
    "lightness_shift = 9\n",
    "saturation_shift = 15\n",
    "\n",
    "new_palette = Image.new('RGB', (8,n_colors), color = 'white')\n",
    "\n",
    "# Choosing colors\n",
    "colors = []\n",
    "for i in range(n_colors):\n",
    "    new_hue = ((first_hue + hue_distance*i)%300)/300\n",
    "    new_color_rgb = hls_to_rgb(new_hue,0.5,0.85)\n",
    "    colors.append((int(new_color_rgb[0]*255),int(new_color_rgb[1]*255),int(new_color_rgb[2]*255)))\n",
    "\n",
    "# Creating color palette\n",
    "for y in range(new_palette.height): \n",
    "    for x in range(new_palette.width):\n",
    "        pass\n",
    "        if y == 0 and x == 4: new_palette.putpixel((x,y),(243,38,0,255))\n",
    "        if y == 1 and x == 4: new_palette.putpixel((x,y),(237,133,10,255))\n",
    "        if y == 2 and x == 4: new_palette.putpixel((x,y),(251,233,3,255))\n",
    "        if y == 3 and x == 4: new_palette.putpixel((x,y),(62,238,4,255))\n",
    "        if y == 4 and x == 4: new_palette.putpixel((x,y),(2,171,245,255))\n",
    "        if y == 5 and x == 4: new_palette.putpixel((x,y),(58,4,245,255))\n",
    "        if y == 6 and x == 4: new_palette.putpixel((x,y),(132,1,255,255))\n",
    "\n",
    "for y in range(new_palette.height): \n",
    "    for x in range(new_palette.width):\n",
    "        new_palette.putpixel((x,y),colors[y])\n",
    "\n",
    "for y in range(new_palette.height): \n",
    "    pixel = new_palette.getpixel((4,y))\n",
    "    hls = rgb_to_hls(pixel[0]/255,pixel[1]/255,pixel[2]/255)\n",
    "    a = 1\n",
    "    for i in range(1,5):\n",
    "        new_h = int(hls[0]*300 - hue_shift*i)\n",
    "        a += 0.1\n",
    "        new_l = int(hls[1]*100 - lightness_shift*i)\n",
    "        new_s = int(hls[2]*100 - saturation_shift*i)\n",
    "\n",
    "        #new_h = hls[0]*300\n",
    "        #new_l = hls[1]*100\n",
    "        #new_s = hls[2]*100\n",
    "\n",
    "        if new_h < 0: new_h = 0\n",
    "        if new_h > 300: new_h = 300\n",
    "\n",
    "        if new_l < 0: new_l = 0\n",
    "        if new_l > 100: new_l = 100\n",
    "\n",
    "        new_pixel = hls_to_rgb(new_h/300, new_l/100, new_s/100)\n",
    "        new_pixel_rgb = (int(new_pixel[0]*255), int(new_pixel[1]*255), int(new_pixel[2]*255), 255)\n",
    "        new_palette.putpixel((4-i,y),new_pixel_rgb)\n",
    "    \n",
    "    a = 1\n",
    "    for i in range(1,4):\n",
    "        new_h = int(hls[0]*300 + hue_shift*i)\n",
    "        a += 0.3\n",
    "        new_l = int(hls[1]*100 + lightness_shift*i)\n",
    "        new_s = int(hls[2]*100 + saturation_shift*i)\n",
    "    \n",
    "        if new_h < 0: new_h = 0\n",
    "        if new_h > 300: new_h = 300\n",
    "\n",
    "        if new_l < 0: new_l = 0\n",
    "        if new_l > 100: new_l = 100\n",
    "\n",
    "        new_pixel = hls_to_rgb(new_h/300, new_l/100, new_s/100)\n",
    "        new_pixel_rgb = (int(new_pixel[0]*255), int(new_pixel[1]*255), int(new_pixel[2]*255), 255)\n",
    "        new_palette.putpixel((4+i,y),new_pixel_rgb)\n",
    "\n",
    "new_palette = new_palette.save(str('../graphics/work/new_palette.png'))\n",
    "\n",
    "\n",
    "\n",
    "# Getting color palette\n",
    "palette = Image.open('../graphics/work/new_palette.png')\n",
    "palette_list = []\n",
    "\n",
    "for y in range(palette.height): \n",
    "    l = []\n",
    "    for x in range(palette.width):\n",
    "        l.append(palette.getpixel((x,y)))\n",
    "    palette_list.append(l)\n",
    "\n",
    "# Replacing pixels\n",
    "for i in range(len(palette_list)):\n",
    "    input_img = Image.open('../graphics/work/test.png')\n",
    "    for y in range(input_img.height): \n",
    "        for x in range(input_img.width):\n",
    "            pixel = input_img.getpixel((x,y))\n",
    "            hls = rgb_to_hls(pixel[0]/255,pixel[1]/255,pixel[2]/255)\n",
    "            #if input_img.getpixel((x,y)) == (19, 19, 19, 255):    input_img.putpixel((x,y), palette_list[i][0])\n",
    "            #if input_img.getpixel((x,y)) == (25, 25, 25, 255):    input_img.putpixel((x,y), palette_list[i][1])\n",
    "            #if input_img.getpixel((x,y)) == (57, 57, 57, 255):    input_img.putpixel((x,y), palette_list[i][2])\n",
    "            #if input_img.getpixel((x,y)) == (88, 88, 88, 255):    input_img.putpixel((x,y), palette_list[i][3])\n",
    "            #if input_img.getpixel((x,y)) == (117, 117, 117, 255): input_img.putpixel((x,y), palette_list[i][4])\n",
    "            #if input_img.getpixel((x,y)) == (150, 150, 150, 255): input_img.putpixel((x,y), palette_list[i][5])\n",
    "            #if input_img.getpixel((x,y)) == (184, 184, 184, 255): input_img.putpixel((x,y), palette_list[i][6])\n",
    "            #if input_img.getpixel((x,y)) == (223, 223, 223, 255): input_img.putpixel((x,y), palette_list[i][7])\n",
    "\n",
    "            if 0 < hls[1] <= 0.15: input_img.putpixel((x,y), palette_list[i][0])\n",
    "            if 0.15 < hls[1] <= 0.25: input_img.putpixel((x,y), palette_list[i][1])\n",
    "            if 0.25 < hls[1] <= 0.4: input_img.putpixel((x,y), palette_list[i][2])\n",
    "            if 0.4 < hls[1] <= 0.5: input_img.putpixel((x,y), palette_list[i][3])\n",
    "            if 0.5 < hls[1] <= 0.6: input_img.putpixel((x,y), palette_list[i][4])\n",
    "            if 0.6 < hls[1] <= 0.8: input_img.putpixel((x,y), palette_list[i][5])\n",
    "            if 0.8 < hls[1] <= 0.9: input_img.putpixel((x,y), palette_list[i][6])\n",
    "            if 0.9 < hls[1] <= 1: input_img.putpixel((x,y), palette_list[i][7])\n",
    "    \n",
    "    input_img = input_img.save(str('../graphics/work/output/output'+ str(i) + '.png'))"
   ]
  },
  {
   "cell_type": "code",
   "execution_count": 11,
   "metadata": {},
   "outputs": [
    {
     "data": {
      "text/plain": [
       "(0.0, 1.0, 0.0)"
      ]
     },
     "execution_count": 11,
     "metadata": {},
     "output_type": "execute_result"
    }
   ],
   "source": [
    "hls"
   ]
  },
  {
   "cell_type": "code",
   "execution_count": 95,
   "metadata": {},
   "outputs": [
    {
     "data": {
      "text/plain": [
       "(165, 1, 1, 255)"
      ]
     },
     "execution_count": 95,
     "metadata": {},
     "output_type": "execute_result"
    }
   ],
   "source": [
    "new_pixel_rgb"
   ]
  },
  {
   "cell_type": "code",
   "execution_count": null,
   "metadata": {},
   "outputs": [],
   "source": []
  }
 ],
 "metadata": {
  "interpreter": {
   "hash": "6229589470e791ad8b231bcccb4c7d40e640d3175631d35914152db8ab87994d"
  },
  "kernelspec": {
   "display_name": "Python 3.9.7 64-bit (system)",
   "language": "python",
   "name": "python3"
  },
  "language_info": {
   "codemirror_mode": {
    "name": "ipython",
    "version": 3
   },
   "file_extension": ".py",
   "mimetype": "text/x-python",
   "name": "python",
   "nbconvert_exporter": "python",
   "pygments_lexer": "ipython3",
   "version": "3.9.7"
  },
  "orig_nbformat": 4
 },
 "nbformat": 4,
 "nbformat_minor": 2
}
